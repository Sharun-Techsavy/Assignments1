{
 "cells": [
  {
   "cell_type": "code",
   "execution_count": null,
   "metadata": {},
   "outputs": [],
   "source": [
    "#1.What are the two values of the Boolean data type? How do you write them?\n",
    "A. The two python Boolean data types are True, False \n",
    "We assign the data types to a variable\n",
    "Ex : a = True\n",
    "    b = False"
   ]
  },
  {
   "cell_type": "code",
   "execution_count": null,
   "metadata": {},
   "outputs": [],
   "source": [
    "#2. What are the three different types of Boolean operators?\n",
    "A.  The three types of boolean operators are :  AND, OR, NOT "
   ]
  },
  {
   "cell_type": "code",
   "execution_count": null,
   "metadata": {},
   "outputs": [],
   "source": [
    "#3. Make a list of each Boolean operators truth tables (i.e. every possible combination of Boolean values for the operator and what it evaluate ).\n",
    "A. The truth table\n",
    "| a | b | x | d | (a and b) | a and b or x | a and (b or x) or d |\t\t\t\t\n",
    "+---+---+---+---+-----------+--------------+---------------------+\t\t\t\t\n",
    "| 0 | 0 | 0 | 0 |     0     |      0       |          0          |\t\t\t\t\n",
    "| 0 | 0 | 0 | 1 |     0     |      0       |          1          |\t\t\t\t\n",
    "| 0 | 0 | 1 | 0 |     0     |      1       |          0          |\t\t\t\t\n",
    "| 0 | 0 | 1 | 1 |     0     |      1       |          1          |\t\t\t\t\n",
    "| 0 | 1 | 0 | 0 |     0     |      0       |          0          |\t\t\t\t\n",
    "| 0 | 1 | 0 | 1 |     0     |      0       |          1          |\t\t\t\t\n",
    "| 0 | 1 | 1 | 0 |     0     |      1       |          0          |\t\t\t\t\n",
    "| 0 | 1 | 1 | 1 |     0     |      1       |          1          |\t\t\t\t\n",
    "| 1 | 0 | 0 | 0 |     0     |      0       |          0          |\t\t\t\t\n",
    "| 1 | 0 | 0 | 1 |     0     |      0       |          1          |\t\t\t\t\n",
    "| 1 | 0 | 1 | 0 |     0     |      1       |          1          |\t\t\t\t\n",
    "| 1 | 0 | 1 | 1 |     0     |      1       |          1          |\t\t\t\t\n",
    "| 1 | 1 | 0 | 0 |     1     |      1       |          1          |\t\t\t\t\n",
    "| 1 | 1 | 0 | 1 |     1     |      1       |          1          |\t\t\t\t\n",
    "| 1 | 1 | 1 | 0 |     1     |      1       |          1          |\t\t\t\t\n",
    "| 1 | 1 | 1 | 1 |     1     |      1       |          1          |\t\t\t\t\n",
    "\n",
    "\n"
   ]
  },
  {
   "cell_type": "code",
   "execution_count": null,
   "metadata": {},
   "outputs": [],
   "source": [
    "#4. What are the values of the following expressions?\n",
    "A. (5 > 4) and (3 == 5) => False\n",
    "not (5 > 4) => False\n",
    "(5 > 4) or (3 == 5) => True\n",
    "not ((5 > 4) or (3 == 5)) => False\n",
    "(True and True) and (True == False) => False\n",
    "(not False) or (not True) => True \n"
   ]
  },
  {
   "cell_type": "code",
   "execution_count": null,
   "metadata": {},
   "outputs": [],
   "source": [
    "#5. What are the six comparison operators?\n",
    "A. The comparison operators are : >, <, >=, <=, ===,!=="
   ]
  },
  {
   "cell_type": "code",
   "execution_count": null,
   "metadata": {},
   "outputs": [],
   "source": [
    "#6. How do you tell the difference between the equal to and assignment operators?Describe a condition and when you would use one.\n",
    "A. The equal to  operator uses a double equal(==) sign whereas the assignment operator uses a single equal(=) sign\n",
    "\n",
    "Ex:\n",
    "    type('iNeuron') == type('Ai')\n",
    "    Here, both the types  of  'iNeuron',  'Ai' are strings.\n",
    "    So, the equal to sign will evaluate whether both are equal.\n",
    "\n",
    "    Assignmemt operator used to assign variables, they use a single(=) sign\n",
    "x = 10\n",
    "The variable x here assigned to 10 using single euqal(=) sign\n",
    "\n",
    "    "
   ]
  },
  {
   "cell_type": "code",
   "execution_count": null,
   "metadata": {},
   "outputs": [],
   "source": [
    "#7. Identify the three blocks in this code:\n",
    "spam = 0\n",
    "if spam == 10:\n",
    "    print('eggs')\n",
    "if spam > 5:\n",
    "    print('bacon')\n",
    "else:\n",
    "    print('ham')\n",
    "    print('spam')\n",
    "    print('spam')\n",
    "\n",
    "This prints:\n",
    "    \n",
    "ham\n",
    "spam\n",
    "spam"
   ]
  },
  {
   "cell_type": "code",
   "execution_count": null,
   "metadata": {},
   "outputs": [],
   "source": [
    "#8. Write code that prints Hello if 1 is stored in spam, prints Howdy if 2 is stored in spam, and prints Greetings! if anything else is stored in spam.\n",
    "A.\n",
    "\n",
    "spam = 0\n",
    "\n",
    "if spam == 1:\n",
    "    print(\"Hello\")\n",
    "elif spam == 2:\n",
    "    print(\"Howdy\")\n",
    "else:\n",
    "    print(\"Greetings\")\n"
   ]
  },
  {
   "cell_type": "code",
   "execution_count": null,
   "metadata": {},
   "outputs": [],
   "source": [
    "#9.If your programme is stuck in an endless loop, what keys you’ll press?\n",
    "A. We have to press Ctrl+C "
   ]
  },
  {
   "cell_type": "code",
   "execution_count": null,
   "metadata": {},
   "outputs": [],
   "source": [
    "#10. How can you tell the difference between break and continue?\n",
    "A. When a break keyword is used, it will exit or terminate the loop and when using the continue keyword, the current iteration running will be stopped,it will proceess the next iteration.\n"
   ]
  },
  {
   "cell_type": "code",
   "execution_count": null,
   "metadata": {},
   "outputs": [],
   "source": [
    "#11. In a for loop, what is the difference between range(10), range(0, 10), and range(0, 10, 1)?\n",
    "A.  range(10) will consider numbers from 0 to 9 and 0 is the starting default number in this case\n",
    "range(0, 10) will consider numbers from 0 to 9 and the starting number is 0 and it goes upto 9\n",
    "range(0, 10, 1) will will consider numbers from 0 to 9 and the starting number is 0 and it goes upto 9 in steps on 1 number."
   ]
  },
  {
   "cell_type": "code",
   "execution_count": null,
   "metadata": {},
   "outputs": [],
   "source": [
    "#12. Write a short program that prints the numbers 1 to 10 using a for loop. Then write an equivalent program that prints the numbers 1 to 10 using a while loop.\n",
    "\n",
    "for i in range(0, 11):\n",
    "    print(i)\n",
    "    \n",
    "i = 1\n",
    "while(i<=10):\n",
    "    print(i)\n",
    "    i += 1"
   ]
  },
  {
   "cell_type": "code",
   "execution_count": null,
   "metadata": {},
   "outputs": [],
   "source": [
    "#13. If you had a function named bacon() inside a module named spam, how would you call it after importing spam?\n",
    "A. from spam import bacon\n",
    "I can later use it as spam.bacon()"
   ]
  }
 ],
 "metadata": {
  "kernelspec": {
   "display_name": "Python 3",
   "language": "python",
   "name": "python3"
  },
  "language_info": {
   "codemirror_mode": {
    "name": "ipython",
    "version": 3
   },
   "file_extension": ".py",
   "mimetype": "text/x-python",
   "name": "python",
   "nbconvert_exporter": "python",
   "pygments_lexer": "ipython3",
   "version": "3.9.1"
  }
 },
 "nbformat": 4,
 "nbformat_minor": 4
}
